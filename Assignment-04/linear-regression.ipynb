{
 "cells": [
  {
   "cell_type": "code",
   "execution_count": 1,
   "metadata": {
    "execution": {
     "iopub.execute_input": "2022-12-07T19:04:52.385190Z",
     "iopub.status.busy": "2022-12-07T19:04:52.384866Z",
     "iopub.status.idle": "2022-12-07T19:04:52.395705Z",
     "shell.execute_reply": "2022-12-07T19:04:52.394652Z",
     "shell.execute_reply.started": "2022-12-07T19:04:52.385123Z"
    }
   },
   "outputs": [],
   "source": [
    "import pandas as pd \n",
    "import matplotlib.pyplot as plt \n",
    "import warnings as wr\n",
    "wr.filterwarnings('ignore')"
   ]
  },
  {
   "cell_type": "code",
   "execution_count": 2,
   "metadata": {
    "execution": {
     "iopub.execute_input": "2022-12-07T19:04:52.397783Z",
     "iopub.status.busy": "2022-12-07T19:04:52.397374Z",
     "iopub.status.idle": "2022-12-07T19:04:52.412254Z",
     "shell.execute_reply": "2022-12-07T19:04:52.411143Z",
     "shell.execute_reply.started": "2022-12-07T19:04:52.397728Z"
    }
   },
   "outputs": [],
   "source": [
    "df = pd.read_csv(\"Height-Weight Data.csv\")"
   ]
  },
  {
   "cell_type": "code",
   "execution_count": 3,
   "metadata": {
    "execution": {
     "iopub.execute_input": "2022-12-07T19:04:52.415050Z",
     "iopub.status.busy": "2022-12-07T19:04:52.414354Z",
     "iopub.status.idle": "2022-12-07T19:04:52.433305Z",
     "shell.execute_reply": "2022-12-07T19:04:52.431734Z",
     "shell.execute_reply.started": "2022-12-07T19:04:52.415010Z"
    },
    "scrolled": true
   },
   "outputs": [
    {
     "data": {
      "text/html": [
       "<div>\n",
       "<style scoped>\n",
       "    .dataframe tbody tr th:only-of-type {\n",
       "        vertical-align: middle;\n",
       "    }\n",
       "\n",
       "    .dataframe tbody tr th {\n",
       "        vertical-align: top;\n",
       "    }\n",
       "\n",
       "    .dataframe thead th {\n",
       "        text-align: right;\n",
       "    }\n",
       "</style>\n",
       "<table border=\"1\" class=\"dataframe\">\n",
       "  <thead>\n",
       "    <tr style=\"text-align: right;\">\n",
       "      <th></th>\n",
       "      <th>Height</th>\n",
       "      <th>Weight</th>\n",
       "    </tr>\n",
       "  </thead>\n",
       "  <tbody>\n",
       "    <tr>\n",
       "      <th>0</th>\n",
       "      <td>73.847017</td>\n",
       "      <td>241.893563</td>\n",
       "    </tr>\n",
       "    <tr>\n",
       "      <th>1</th>\n",
       "      <td>68.781904</td>\n",
       "      <td>162.310473</td>\n",
       "    </tr>\n",
       "    <tr>\n",
       "      <th>2</th>\n",
       "      <td>74.110105</td>\n",
       "      <td>212.740856</td>\n",
       "    </tr>\n",
       "    <tr>\n",
       "      <th>3</th>\n",
       "      <td>71.730978</td>\n",
       "      <td>220.042470</td>\n",
       "    </tr>\n",
       "    <tr>\n",
       "      <th>4</th>\n",
       "      <td>69.881796</td>\n",
       "      <td>206.349801</td>\n",
       "    </tr>\n",
       "  </tbody>\n",
       "</table>\n",
       "</div>"
      ],
      "text/plain": [
       "      Height      Weight\n",
       "0  73.847017  241.893563\n",
       "1  68.781904  162.310473\n",
       "2  74.110105  212.740856\n",
       "3  71.730978  220.042470\n",
       "4  69.881796  206.349801"
      ]
     },
     "execution_count": 3,
     "metadata": {},
     "output_type": "execute_result"
    }
   ],
   "source": [
    "df.head()"
   ]
  },
  {
   "cell_type": "code",
   "execution_count": 4,
   "metadata": {
    "execution": {
     "iopub.execute_input": "2022-12-07T19:04:52.437964Z",
     "iopub.status.busy": "2022-12-07T19:04:52.437527Z",
     "iopub.status.idle": "2022-12-07T19:04:52.448769Z",
     "shell.execute_reply": "2022-12-07T19:04:52.447405Z",
     "shell.execute_reply.started": "2022-12-07T19:04:52.437922Z"
    }
   },
   "outputs": [],
   "source": [
    "# df.head(2)"
   ]
  },
  {
   "cell_type": "code",
   "execution_count": 5,
   "metadata": {
    "execution": {
     "iopub.execute_input": "2022-12-07T19:04:52.451551Z",
     "iopub.status.busy": "2022-12-07T19:04:52.451141Z",
     "iopub.status.idle": "2022-12-07T19:04:52.468038Z",
     "shell.execute_reply": "2022-12-07T19:04:52.466646Z",
     "shell.execute_reply.started": "2022-12-07T19:04:52.451490Z"
    }
   },
   "outputs": [],
   "source": [
    "# df.tail()\n",
    "# df.tail(3)"
   ]
  },
  {
   "cell_type": "code",
   "execution_count": 6,
   "metadata": {
    "execution": {
     "iopub.execute_input": "2022-12-07T19:04:52.470086Z",
     "iopub.status.busy": "2022-12-07T19:04:52.469560Z",
     "iopub.status.idle": "2022-12-07T19:04:52.478055Z",
     "shell.execute_reply": "2022-12-07T19:04:52.476639Z",
     "shell.execute_reply.started": "2022-12-07T19:04:52.470041Z"
    }
   },
   "outputs": [
    {
     "data": {
      "text/plain": [
       "(3501, 2)"
      ]
     },
     "execution_count": 6,
     "metadata": {},
     "output_type": "execute_result"
    }
   ],
   "source": [
    "df.shape"
   ]
  },
  {
   "cell_type": "code",
   "execution_count": 7,
   "metadata": {
    "execution": {
     "iopub.execute_input": "2022-12-07T19:04:52.480700Z",
     "iopub.status.busy": "2022-12-07T19:04:52.479815Z",
     "iopub.status.idle": "2022-12-07T19:04:52.491432Z",
     "shell.execute_reply": "2022-12-07T19:04:52.490019Z",
     "shell.execute_reply.started": "2022-12-07T19:04:52.480660Z"
    }
   },
   "outputs": [
    {
     "data": {
      "text/plain": [
       "Height    0\n",
       "Weight    0\n",
       "dtype: int64"
      ]
     },
     "execution_count": 7,
     "metadata": {},
     "output_type": "execute_result"
    }
   ],
   "source": [
    "# df.isnull()\n",
    "df.isnull().sum()"
   ]
  },
  {
   "cell_type": "code",
   "execution_count": 8,
   "metadata": {
    "execution": {
     "iopub.execute_input": "2022-12-07T19:04:52.494175Z",
     "iopub.status.busy": "2022-12-07T19:04:52.492880Z",
     "iopub.status.idle": "2022-12-07T19:04:52.507928Z",
     "shell.execute_reply": "2022-12-07T19:04:52.506798Z",
     "shell.execute_reply.started": "2022-12-07T19:04:52.494137Z"
    }
   },
   "outputs": [
    {
     "name": "stdout",
     "output_type": "stream",
     "text": [
      "<class 'pandas.core.frame.DataFrame'>\n",
      "RangeIndex: 3501 entries, 0 to 3500\n",
      "Data columns (total 2 columns):\n",
      " #   Column  Non-Null Count  Dtype  \n",
      "---  ------  --------------  -----  \n",
      " 0   Height  3501 non-null   float64\n",
      " 1   Weight  3501 non-null   float64\n",
      "dtypes: float64(2)\n",
      "memory usage: 54.8 KB\n"
     ]
    }
   ],
   "source": [
    "df.info()"
   ]
  },
  {
   "cell_type": "code",
   "execution_count": 9,
   "metadata": {
    "execution": {
     "iopub.execute_input": "2022-12-07T19:04:52.510339Z",
     "iopub.status.busy": "2022-12-07T19:04:52.509699Z",
     "iopub.status.idle": "2022-12-07T19:04:52.782474Z",
     "shell.execute_reply": "2022-12-07T19:04:52.781375Z",
     "shell.execute_reply.started": "2022-12-07T19:04:52.510301Z"
    }
   },
   "outputs": [
    {
     "data": {
      "image/png": "[encoded data removed]",
      "text/plain": [
       "<Figure size 640x480 with 1 Axes>"
      ]
     },
     "metadata": {},
     "output_type": "display_data"
    }
   ],
   "source": [
    "plt.scatter(df.Height, df.Weight, color='black', marker='+')\n",
    "plt.scatter(df.Height, df.Weight)\n",
    "plt.xlabel(\"Height\")\n",
    "plt.ylabel(\"Weight \")\n",
    "plt.title(\"Weight- Height Plot\")\n",
    "plt.savefig('Height-Weight plot.png')"
   ]
  },
  {
   "cell_type": "code",
   "execution_count": 10,
   "metadata": {
    "execution": {
     "iopub.execute_input": "2022-12-07T19:04:52.784666Z",
     "iopub.status.busy": "2022-12-07T19:04:52.783864Z",
     "iopub.status.idle": "2022-12-07T19:04:52.793064Z",
     "shell.execute_reply": "2022-12-07T19:04:52.791548Z",
     "shell.execute_reply.started": "2022-12-07T19:04:52.784627Z"
    }
   },
   "outputs": [
    {
     "data": {
      "text/plain": [
       "69.02441087268797"
      ]
     },
     "execution_count": 10,
     "metadata": {},
     "output_type": "execute_result"
    }
   ],
   "source": [
    "df.Height.mean()"
   ]
  },
  {
   "cell_type": "code",
   "execution_count": 11,
   "metadata": {
    "execution": {
     "iopub.execute_input": "2022-12-07T19:04:52.795902Z",
     "iopub.status.busy": "2022-12-07T19:04:52.795394Z",
     "iopub.status.idle": "2022-12-07T19:04:52.804078Z",
     "shell.execute_reply": "2022-12-07T19:04:52.802882Z",
     "shell.execute_reply.started": "2022-12-07T19:04:52.795863Z"
    }
   },
   "outputs": [
    {
     "data": {
      "text/plain": [
       "186.89125797946284"
      ]
     },
     "execution_count": 11,
     "metadata": {},
     "output_type": "execute_result"
    }
   ],
   "source": [
    "df.Weight.mean()"
   ]
  },
  {
   "cell_type": "code",
   "execution_count": 12,
   "metadata": {
    "execution": {
     "iopub.execute_input": "2022-12-07T19:04:52.806786Z",
     "iopub.status.busy": "2022-12-07T19:04:52.806066Z",
     "iopub.status.idle": "2022-12-07T19:04:52.813797Z",
     "shell.execute_reply": "2022-12-07T19:04:52.813101Z",
     "shell.execute_reply.started": "2022-12-07T19:04:52.806741Z"
    }
   },
   "outputs": [],
   "source": [
    "x = df[['Height']]    # x = df.drop('Weight', axis =1)"
   ]
  },
  {
   "cell_type": "code",
   "execution_count": 13,
   "metadata": {},
   "outputs": [],
   "source": [
    "y = df[['Weight']]    # y = df.drop('Height', axis = )"
   ]
  },
  {
   "cell_type": "code",
   "execution_count": 14,
   "metadata": {
    "execution": {
     "iopub.execute_input": "2022-12-07T19:04:52.821059Z",
     "iopub.status.busy": "2022-12-07T19:04:52.818995Z",
     "iopub.status.idle": "2022-12-07T19:04:52.829787Z",
     "shell.execute_reply": "2022-12-07T19:04:52.828591Z",
     "shell.execute_reply.started": "2022-12-07T19:04:52.821032Z"
    }
   },
   "outputs": [
    {
     "data": {
      "text/html": [
       "<div>\n",
       "<style scoped>\n",
       "    .dataframe tbody tr th:only-of-type {\n",
       "        vertical-align: middle;\n",
       "    }\n",
       "\n",
       "    .dataframe tbody tr th {\n",
       "        vertical-align: top;\n",
       "    }\n",
       "\n",
       "    .dataframe thead th {\n",
       "        text-align: right;\n",
       "    }\n",
       "</style>\n",
       "<table border=\"1\" class=\"dataframe\">\n",
       "  <thead>\n",
       "    <tr style=\"text-align: right;\">\n",
       "      <th></th>\n",
       "      <th>Weight</th>\n",
       "    </tr>\n",
       "  </thead>\n",
       "  <tbody>\n",
       "    <tr>\n",
       "      <th>0</th>\n",
       "      <td>241.893563</td>\n",
       "    </tr>\n",
       "    <tr>\n",
       "      <th>1</th>\n",
       "      <td>162.310473</td>\n",
       "    </tr>\n",
       "    <tr>\n",
       "      <th>2</th>\n",
       "      <td>212.740856</td>\n",
       "    </tr>\n",
       "    <tr>\n",
       "      <th>3</th>\n",
       "      <td>220.042470</td>\n",
       "    </tr>\n",
       "    <tr>\n",
       "      <th>4</th>\n",
       "      <td>206.349801</td>\n",
       "    </tr>\n",
       "  </tbody>\n",
       "</table>\n",
       "</div>"
      ],
      "text/plain": [
       "       Weight\n",
       "0  241.893563\n",
       "1  162.310473\n",
       "2  212.740856\n",
       "3  220.042470\n",
       "4  206.349801"
      ]
     },
     "execution_count": 14,
     "metadata": {},
     "output_type": "execute_result"
    }
   ],
   "source": [
    "y.head()"
   ]
  },
  {
   "cell_type": "code",
   "execution_count": 15,
   "metadata": {
    "execution": {
     "iopub.execute_input": "2022-12-07T19:04:52.832202Z",
     "iopub.status.busy": "2022-12-07T19:04:52.831751Z",
     "iopub.status.idle": "2022-12-07T19:04:52.842280Z",
     "shell.execute_reply": "2022-12-07T19:04:52.841327Z",
     "shell.execute_reply.started": "2022-12-07T19:04:52.832164Z"
    }
   },
   "outputs": [
    {
     "data": {
      "text/html": [
       "<div>\n",
       "<style scoped>\n",
       "    .dataframe tbody tr th:only-of-type {\n",
       "        vertical-align: middle;\n",
       "    }\n",
       "\n",
       "    .dataframe tbody tr th {\n",
       "        vertical-align: top;\n",
       "    }\n",
       "\n",
       "    .dataframe thead th {\n",
       "        text-align: right;\n",
       "    }\n",
       "</style>\n",
       "<table border=\"1\" class=\"dataframe\">\n",
       "  <thead>\n",
       "    <tr style=\"text-align: right;\">\n",
       "      <th></th>\n",
       "      <th>Height</th>\n",
       "    </tr>\n",
       "  </thead>\n",
       "  <tbody>\n",
       "    <tr>\n",
       "      <th>0</th>\n",
       "      <td>73.847017</td>\n",
       "    </tr>\n",
       "    <tr>\n",
       "      <th>1</th>\n",
       "      <td>68.781904</td>\n",
       "    </tr>\n",
       "    <tr>\n",
       "      <th>2</th>\n",
       "      <td>74.110105</td>\n",
       "    </tr>\n",
       "    <tr>\n",
       "      <th>3</th>\n",
       "      <td>71.730978</td>\n",
       "    </tr>\n",
       "    <tr>\n",
       "      <th>4</th>\n",
       "      <td>69.881796</td>\n",
       "    </tr>\n",
       "  </tbody>\n",
       "</table>\n",
       "</div>"
      ],
      "text/plain": [
       "      Height\n",
       "0  73.847017\n",
       "1  68.781904\n",
       "2  74.110105\n",
       "3  71.730978\n",
       "4  69.881796"
      ]
     },
     "execution_count": 15,
     "metadata": {},
     "output_type": "execute_result"
    }
   ],
   "source": [
    "x.head()"
   ]
  },
  {
   "cell_type": "code",
   "execution_count": 16,
   "metadata": {
    "execution": {
     "iopub.execute_input": "2022-12-07T19:04:52.844613Z",
     "iopub.status.busy": "2022-12-07T19:04:52.843736Z",
     "iopub.status.idle": "2022-12-07T19:04:53.371820Z",
     "shell.execute_reply": "2022-12-07T19:04:53.370800Z",
     "shell.execute_reply.started": "2022-12-07T19:04:52.844523Z"
    }
   },
   "outputs": [],
   "source": [
    "from sklearn.linear_model import LinearRegression"
   ]
  },
  {
   "cell_type": "code",
   "execution_count": 17,
   "metadata": {
    "execution": {
     "iopub.execute_input": "2022-12-07T19:04:53.373773Z",
     "iopub.status.busy": "2022-12-07T19:04:53.373373Z",
     "iopub.status.idle": "2022-12-07T19:04:53.381498Z",
     "shell.execute_reply": "2022-12-07T19:04:53.380443Z",
     "shell.execute_reply.started": "2022-12-07T19:04:53.373721Z"
    }
   },
   "outputs": [],
   "source": [
    "reg = LinearRegression()"
   ]
  },
  {
   "cell_type": "code",
   "execution_count": 18,
   "metadata": {
    "execution": {
     "iopub.execute_input": "2022-12-07T19:04:53.383501Z",
     "iopub.status.busy": "2022-12-07T19:04:53.383236Z",
     "iopub.status.idle": "2022-12-07T19:04:53.412368Z",
     "shell.execute_reply": "2022-12-07T19:04:53.411251Z",
     "shell.execute_reply.started": "2022-12-07T19:04:53.383477Z"
    }
   },
   "outputs": [
    {
     "data": {
      "text/plain": [
       "LinearRegression()"
      ]
     },
     "execution_count": 18,
     "metadata": {},
     "output_type": "execute_result"
    }
   ],
   "source": [
    "reg.fit(x,y) # T=traning the model"
   ]
  },
  {
   "cell_type": "code",
   "execution_count": 19,
   "metadata": {
    "execution": {
     "iopub.execute_input": "2022-12-07T19:04:53.414788Z",
     "iopub.status.busy": "2022-12-07T19:04:53.414091Z",
     "iopub.status.idle": "2022-12-07T19:04:53.421819Z",
     "shell.execute_reply": "2022-12-07T19:04:53.420736Z",
     "shell.execute_reply.started": "2022-12-07T19:04:53.414740Z"
    }
   },
   "outputs": [
    {
     "data": {
      "text/plain": [
       "array([[5.95843786]])"
      ]
     },
     "execution_count": 19,
     "metadata": {},
     "output_type": "execute_result"
    }
   ],
   "source": [
    "reg.coef_ # m"
   ]
  },
  {
   "cell_type": "code",
   "execution_count": 20,
   "metadata": {
    "execution": {
     "iopub.execute_input": "2022-12-07T19:04:53.424181Z",
     "iopub.status.busy": "2022-12-07T19:04:53.423518Z",
     "iopub.status.idle": "2022-12-07T19:04:53.431609Z",
     "shell.execute_reply": "2022-12-07T19:04:53.430308Z",
     "shell.execute_reply.started": "2022-12-07T19:04:53.424146Z"
    }
   },
   "outputs": [
    {
     "data": {
      "text/plain": [
       "array([-224.38640537])"
      ]
     },
     "execution_count": 20,
     "metadata": {},
     "output_type": "execute_result"
    }
   ],
   "source": [
    "reg.intercept_ # c"
   ]
  },
  {
   "cell_type": "code",
   "execution_count": 21,
   "metadata": {
    "execution": {
     "iopub.execute_input": "2022-12-07T19:04:53.434220Z",
     "iopub.status.busy": "2022-12-07T19:04:53.433390Z",
     "iopub.status.idle": "2022-12-07T19:04:53.441780Z",
     "shell.execute_reply": "2022-12-07T19:04:53.440614Z",
     "shell.execute_reply.started": "2022-12-07T19:04:53.434182Z"
    }
   },
   "outputs": [
    {
     "data": {
      "text/plain": [
       "array([[185.44629585]])"
      ]
     },
     "execution_count": 21,
     "metadata": {},
     "output_type": "execute_result"
    }
   ],
   "source": [
    "reg.predict([[68.781904]])"
   ]
  },
  {
   "cell_type": "code",
   "execution_count": 22,
   "metadata": {
    "execution": {
     "iopub.execute_input": "2022-12-07T19:04:53.444285Z",
     "iopub.status.busy": "2022-12-07T19:04:53.443612Z",
     "iopub.status.idle": "2022-12-07T19:04:53.451395Z",
     "shell.execute_reply": "2022-12-07T19:04:53.450232Z",
     "shell.execute_reply.started": "2022-12-07T19:04:53.444247Z"
    }
   },
   "outputs": [
    {
     "data": {
      "text/plain": [
       "23.13582285000001"
      ]
     },
     "execution_count": 22,
     "metadata": {},
     "output_type": "execute_result"
    }
   ],
   "source": [
    "185.44629585-162.310473"
   ]
  },
  {
   "cell_type": "code",
   "execution_count": 23,
   "metadata": {},
   "outputs": [
    {
     "data": {
      "text/plain": [
       "array([[185.44629585]])"
      ]
     },
     "execution_count": 23,
     "metadata": {},
     "output_type": "execute_result"
    }
   ],
   "source": [
    "#y = m*x + c\n",
    "result=((reg.coef_) * 68.781904) + (reg.intercept_)\n",
    "result"
   ]
  },
  {
   "cell_type": "code",
   "execution_count": 24,
   "metadata": {
    "execution": {
     "iopub.execute_input": "2022-12-07T19:04:53.463531Z",
     "iopub.status.busy": "2022-12-07T19:04:53.462711Z",
     "iopub.status.idle": "2022-12-07T19:04:53.472456Z",
     "shell.execute_reply": "2022-12-07T19:04:53.471266Z",
     "shell.execute_reply.started": "2022-12-07T19:04:53.463496Z"
    }
   },
   "outputs": [
    {
     "data": {
      "text/plain": [
       "array([[215.62645706],\n",
       "       [185.44629614],\n",
       "       [217.19405276],\n",
       "       ...,\n",
       "       [216.01692618],\n",
       "       [177.18859679],\n",
       "       [209.02422774]])"
      ]
     },
     "execution_count": 24,
     "metadata": {},
     "output_type": "execute_result"
    }
   ],
   "source": [
    "reg.predict(x)"
   ]
  },
  {
   "cell_type": "code",
   "execution_count": 25,
   "metadata": {
    "execution": {
     "iopub.execute_input": "2022-12-07T19:04:53.474739Z",
     "iopub.status.busy": "2022-12-07T19:04:53.473992Z",
     "iopub.status.idle": "2022-12-07T19:04:53.481927Z",
     "shell.execute_reply": "2022-12-07T19:04:53.480960Z",
     "shell.execute_reply.started": "2022-12-07T19:04:53.474705Z"
    }
   },
   "outputs": [],
   "source": [
    "df['predicted_Weight'] = reg.predict(x)"
   ]
  },
  {
   "cell_type": "code",
   "execution_count": 26,
   "metadata": {
    "execution": {
     "iopub.execute_input": "2022-12-07T19:04:53.484445Z",
     "iopub.status.busy": "2022-12-07T19:04:53.483715Z",
     "iopub.status.idle": "2022-12-07T19:04:53.497003Z",
     "shell.execute_reply": "2022-12-07T19:04:53.495972Z",
     "shell.execute_reply.started": "2022-12-07T19:04:53.484411Z"
    }
   },
   "outputs": [
    {
     "data": {
      "text/html": [
       "<div>\n",
       "<style scoped>\n",
       "    .dataframe tbody tr th:only-of-type {\n",
       "        vertical-align: middle;\n",
       "    }\n",
       "\n",
       "    .dataframe tbody tr th {\n",
       "        vertical-align: top;\n",
       "    }\n",
       "\n",
       "    .dataframe thead th {\n",
       "        text-align: right;\n",
       "    }\n",
       "</style>\n",
       "<table border=\"1\" class=\"dataframe\">\n",
       "  <thead>\n",
       "    <tr style=\"text-align: right;\">\n",
       "      <th></th>\n",
       "      <th>Height</th>\n",
       "      <th>Weight</th>\n",
       "      <th>predicted_Weight</th>\n",
       "    </tr>\n",
       "  </thead>\n",
       "  <tbody>\n",
       "    <tr>\n",
       "      <th>0</th>\n",
       "      <td>73.847017</td>\n",
       "      <td>241.893563</td>\n",
       "      <td>215.626457</td>\n",
       "    </tr>\n",
       "    <tr>\n",
       "      <th>1</th>\n",
       "      <td>68.781904</td>\n",
       "      <td>162.310473</td>\n",
       "      <td>185.446296</td>\n",
       "    </tr>\n",
       "    <tr>\n",
       "      <th>2</th>\n",
       "      <td>74.110105</td>\n",
       "      <td>212.740856</td>\n",
       "      <td>217.194053</td>\n",
       "    </tr>\n",
       "    <tr>\n",
       "      <th>3</th>\n",
       "      <td>71.730978</td>\n",
       "      <td>220.042470</td>\n",
       "      <td>203.018172</td>\n",
       "    </tr>\n",
       "    <tr>\n",
       "      <th>4</th>\n",
       "      <td>69.881796</td>\n",
       "      <td>206.349801</td>\n",
       "      <td>191.999933</td>\n",
       "    </tr>\n",
       "  </tbody>\n",
       "</table>\n",
       "</div>"
      ],
      "text/plain": [
       "      Height      Weight  predicted_Weight\n",
       "0  73.847017  241.893563        215.626457\n",
       "1  68.781904  162.310473        185.446296\n",
       "2  74.110105  212.740856        217.194053\n",
       "3  71.730978  220.042470        203.018172\n",
       "4  69.881796  206.349801        191.999933"
      ]
     },
     "execution_count": 26,
     "metadata": {},
     "output_type": "execute_result"
    }
   ],
   "source": [
    "df.head()"
   ]
  },
  {
   "cell_type": "code",
   "execution_count": 27,
   "metadata": {
    "execution": {
     "iopub.execute_input": "2022-12-07T19:04:53.499227Z",
     "iopub.status.busy": "2022-12-07T19:04:53.498439Z",
     "iopub.status.idle": "2022-12-07T19:04:53.506813Z",
     "shell.execute_reply": "2022-12-07T19:04:53.505644Z",
     "shell.execute_reply.started": "2022-12-07T19:04:53.499171Z"
    }
   },
   "outputs": [
    {
     "data": {
      "text/plain": [
       "array([[143.43379139]])"
      ]
     },
     "execution_count": 27,
     "metadata": {},
     "output_type": "execute_result"
    }
   ],
   "source": [
    "reg.predict([[61.730978]])"
   ]
  },
  {
   "cell_type": "code",
   "execution_count": 28,
   "metadata": {
    "execution": {
     "iopub.execute_input": "2022-12-07T19:04:53.509464Z",
     "iopub.status.busy": "2022-12-07T19:04:53.508672Z",
     "iopub.status.idle": "2022-12-07T19:04:53.707974Z",
     "shell.execute_reply": "2022-12-07T19:04:53.707018Z",
     "shell.execute_reply.started": "2022-12-07T19:04:53.509426Z"
    }
   },
   "outputs": [
    {
     "data": {
      "text/plain": [
       "[<matplotlib.lines.Line2D at 0xe95f388>]"
      ]
     },
     "execution_count": 28,
     "metadata": {},
     "output_type": "execute_result"
    },
    {
     "data": {
      "image/png": "[encoded data removed]",
      "text/plain": [
       "<Figure size 640x480 with 1 Axes>"
      ]
     },
     "metadata": {},
     "output_type": "display_data"
    }
   ],
   "source": [
    "# plt.plot(df.Height, reg.predict(x))\n",
    "plt.plot(df.Height, reg.predict(df[['Height']]))\n",
    "#x axis = Height\n",
    "#y axis = Weight"
   ]
  },
  {
   "cell_type": "code",
   "execution_count": 29,
   "metadata": {
    "execution": {
     "iopub.execute_input": "2022-12-07T19:04:53.709841Z",
     "iopub.status.busy": "2022-12-07T19:04:53.709447Z",
     "iopub.status.idle": "2022-12-07T19:04:53.948462Z",
     "shell.execute_reply": "2022-12-07T19:04:53.947544Z",
     "shell.execute_reply.started": "2022-12-07T19:04:53.709806Z"
    }
   },
   "outputs": [
    {
     "data": {
      "image/png": "[encoded data removed]",
      "text/plain": [
       "<Figure size 640x480 with 1 Axes>"
      ]
     },
     "metadata": {},
     "output_type": "display_data"
    }
   ],
   "source": [
    "# plt.plot(df.Height.squeeze(), reg.predict(df[['Height']]))\n",
    "plt.plot(df.Height, reg.predict(df[['Height']]))\n",
    "# x axis =Height\n",
    "# y axis = Prediction Weight\n",
    "\n",
    "plt.scatter(df.Height, df.Weight, color='purple')\n",
    "plt.xlabel(\"Height in Inches\")\n",
    "plt.ylabel(\"Wight in Pounds\")\n",
    "plt.title(\"Wight- Height Plot\")\n",
    "plt.savefig('Image Height-Wight plot.png')"
   ]
  },
  {
   "cell_type": "code",
   "execution_count": 30,
   "metadata": {
    "execution": {
     "iopub.execute_input": "2022-12-07T19:04:53.950495Z",
     "iopub.status.busy": "2022-12-07T19:04:53.950137Z",
     "iopub.status.idle": "2022-12-07T19:04:53.960755Z",
     "shell.execute_reply": "2022-12-07T19:04:53.959591Z",
     "shell.execute_reply.started": "2022-12-07T19:04:53.950459Z"
    }
   },
   "outputs": [
    {
     "data": {
      "text/plain": [
       "0.7323584758139253"
      ]
     },
     "execution_count": 30,
     "metadata": {},
     "output_type": "execute_result"
    }
   ],
   "source": [
    "reg.score(x,y) # training accuracy "
   ]
  },
  {
   "cell_type": "code",
   "execution_count": 31,
   "metadata": {
    "execution": {
     "iopub.execute_input": "2022-12-07T19:04:53.963295Z",
     "iopub.status.busy": "2022-12-07T19:04:53.962886Z",
     "iopub.status.idle": "2022-12-07T19:04:53.971037Z",
     "shell.execute_reply": "2022-12-07T19:04:53.967994Z",
     "shell.execute_reply.started": "2022-12-07T19:04:53.963259Z"
    }
   },
   "outputs": [],
   "source": [
    "from sklearn.metrics import mean_squared_error"
   ]
  },
  {
   "cell_type": "code",
   "execution_count": 32,
   "metadata": {
    "execution": {
     "iopub.execute_input": "2022-12-07T19:04:53.973281Z",
     "iopub.status.busy": "2022-12-07T19:04:53.972516Z",
     "iopub.status.idle": "2022-12-07T19:04:53.986494Z",
     "shell.execute_reply": "2022-12-07T19:04:53.985618Z",
     "shell.execute_reply.started": "2022-12-07T19:04:53.973236Z"
    }
   },
   "outputs": [
    {
     "data": {
      "text/plain": [
       "14093.441594098931"
      ]
     },
     "execution_count": 32,
     "metadata": {},
     "output_type": "execute_result"
    }
   ],
   "source": [
    "mean_squared_error(df[['Weight']], reg.predict(df[['Height']]))"
   ]
  },
  {
   "cell_type": "code",
   "execution_count": 33,
   "metadata": {
    "execution": {
     "iopub.execute_input": "2022-12-07T19:07:05.308549Z",
     "iopub.status.busy": "2022-12-07T19:07:05.307798Z",
     "iopub.status.idle": "2022-12-07T19:07:05.320116Z",
     "shell.execute_reply": "2022-12-07T19:07:05.318939Z",
     "shell.execute_reply.started": "2022-12-07T19:07:05.308511Z"
    }
   },
   "outputs": [
    {
     "data": {
      "text/plain": [
       "14093.441594098931"
      ]
     },
     "execution_count": 33,
     "metadata": {},
     "output_type": "execute_result"
    }
   ],
   "source": [
    "mean_squared_error(y,df.predicted_Weight)"
   ]
  },
  {
   "cell_type": "code",
   "execution_count": null,
   "metadata": {},
   "outputs": [],
   "source": [
    "mean_absolute_error(y, df.predicted_rent)"
   ]
  }
 ],
 "metadata": {
  "kernelspec": {
   "display_name": "Python 3 (ipykernel)",
   "language": "python",
   "name": "python3"
  },
  "language_info": {
   "codemirror_mode": {
    "name": "ipython",
    "version": 3
   },
   "file_extension": ".py",
   "mimetype": "text/x-python",
   "name": "python",
   "nbconvert_exporter": "python",
   "pygments_lexer": "ipython3",
   "version": "3.9.13 (main, Aug 25 2022, 23:51:50) [MSC v.1916 64 bit (AMD64)]"
  },
  "vscode": {
   "interpreter": {
    "hash": "301392c3b0eb06d6d45f21b27cd40d46634b624fb7988a05fbd688d0cc6eb63e"
   }
  }
 },
 "nbformat": 4,
 "nbformat_minor": 4
}
